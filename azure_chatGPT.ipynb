{
 "cells": [
  {
   "cell_type": "code",
   "execution_count": 1,
   "id": "203c93a7-9ecd-4053-9ba0-ceaf83595f34",
   "metadata": {
    "execution": {
     "iopub.execute_input": "2023-08-29T14:01:06.755168Z",
     "iopub.status.busy": "2023-08-29T14:01:06.754691Z",
     "iopub.status.idle": "2023-08-29T14:01:15.237026Z",
     "shell.execute_reply": "2023-08-29T14:01:15.234749Z",
     "shell.execute_reply.started": "2023-08-29T14:01:06.755122Z"
    }
   },
   "outputs": [],
   "source": [
    "import openai\n",
    "import os\n",
    "\n",
    "from dotenv import load_dotenv, find_dotenv\n",
    "_ = load_dotenv(find_dotenv())\n",
    "\n",
    "openai.api_type = \"azure\"\n",
    "openai.api_key = os.getenv('OPENAI_API_KEY')\n",
    "openai.api_base = \"https://ai4ta-openai.openai.azure.com/\"\n",
    "openai.api_version = \"2023-05-15\"\n",
    "\n"
   ]
  },
  {
   "cell_type": "code",
   "execution_count": 2,
   "id": "1b3d371e-a7a7-44f6-9283-733ad908f855",
   "metadata": {
    "execution": {
     "iopub.execute_input": "2023-08-29T14:01:15.240683Z",
     "iopub.status.busy": "2023-08-29T14:01:15.239842Z",
     "iopub.status.idle": "2023-08-29T14:01:15.253836Z",
     "shell.execute_reply": "2023-08-29T14:01:15.251241Z",
     "shell.execute_reply.started": "2023-08-29T14:01:15.240613Z"
    }
   },
   "outputs": [],
   "source": [
    "def get_completion(prompt, deployment_id=\"gpt-35-turbo\", model=\"gpt-35-turbo\"):\n",
    "    messages = [{\"role\": \"user\", \"content\": prompt}]\n",
    "    response = openai.ChatCompletion.create(\n",
    "        deployment_id=deployment_id,\n",
    "        model=model,\n",
    "        messages=messages,\n",
    "        temperature=0, # this is the degree of randomness of the model's output\n",
    "    )\n",
    "    return response.choices[0].message[\"content\"]"
   ]
  },
  {
   "cell_type": "code",
   "execution_count": 3,
   "id": "471979f3-a423-467d-8d00-257ae895bac5",
   "metadata": {
    "execution": {
     "iopub.execute_input": "2023-08-29T14:01:15.258265Z",
     "iopub.status.busy": "2023-08-29T14:01:15.257443Z",
     "iopub.status.idle": "2023-08-29T14:01:18.111091Z",
     "shell.execute_reply": "2023-08-29T14:01:18.108599Z",
     "shell.execute_reply.started": "2023-08-29T14:01:15.258196Z"
    }
   },
   "outputs": [
    {
     "name": "stdout",
     "output_type": "stream",
     "text": [
      "Clear and specific instructions should be provided to guide a model towards the desired output, and longer prompts can provide more clarity and context for the model, leading to more detailed and relevant outputs.\n"
     ]
    }
   ],
   "source": [
    "text = f\"\"\"\n",
    "You should express what you want a model to do by \\ \n",
    "providing instructions that are as clear and \\ \n",
    "specific as you can possibly make them. \\ \n",
    "This will guide the model towards the desired output, \\ \n",
    "and reduce the chances of receiving irrelevant \\ \n",
    "or incorrect responses. Don't confuse writing a \\ \n",
    "clear prompt with writing a short prompt. \\ \n",
    "In many cases, longer prompts provide more clarity \\ \n",
    "and context for the model, which can lead to \\ \n",
    "more detailed and relevant outputs.\n",
    "\"\"\"\n",
    "prompt = f\"\"\"\n",
    "Summarize the text delimited by triple backticks \\ \n",
    "into a single sentence.\n",
    "```{text}```\n",
    "\"\"\"\n",
    "response = get_completion(prompt)\n",
    "print(response)"
   ]
  }
 ],
 "metadata": {
  "kernelspec": {
   "display_name": "xai_env",
   "language": "python",
   "name": "xai_env"
  },
  "language_info": {
   "codemirror_mode": {
    "name": "ipython",
    "version": 3
   },
   "file_extension": ".py",
   "mimetype": "text/x-python",
   "name": "python",
   "nbconvert_exporter": "python",
   "pygments_lexer": "ipython3",
   "version": "3.8.10"
  }
 },
 "nbformat": 4,
 "nbformat_minor": 5
}
